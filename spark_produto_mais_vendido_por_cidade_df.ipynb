{
 "cells": [
  {
   "cell_type": "code",
   "execution_count": 1,
   "metadata": {},
   "outputs": [],
   "source": [
    "import findspark\n",
    "findspark.init('/home/ubuntu/spark-2.1.1-bin-hadoop2.7')"
   ]
  },
  {
   "cell_type": "code",
   "execution_count": 100,
   "metadata": {},
   "outputs": [],
   "source": [
    "\n",
    "from pyspark import SparkContext\n",
    "from pyspark.sql import SparkSession\n",
    "import time\n",
    "from pyspark.sql.functions import col, count, max"
   ]
  },
  {
   "cell_type": "code",
   "execution_count": 3,
   "metadata": {},
   "outputs": [],
   "source": [
    "\n",
    "spark = SparkSession \\\n",
    "    .builder \\\n",
    "    .appName(\"Python Spark Agg Compras\") \\\n",
    "    .getOrCreate()"
   ]
  },
  {
   "cell_type": "code",
   "execution_count": 4,
   "metadata": {},
   "outputs": [],
   "source": [
    "\n",
    "# spark is an existing SparkSession\n",
    "df = spark.read.option(\"delimiter\", \";\").csv(\"compras.txt\", inferSchema = True, header = True)"
   ]
  },
  {
   "cell_type": "code",
   "execution_count": 5,
   "metadata": {},
   "outputs": [
    {
     "name": "stdout",
     "output_type": "stream",
     "text": [
      "+--------------------+--------+--------------+-----------------+------+----------+\n",
      "|                Data|    Hora|        Cidade|          Produto| Valor|FormaPagto|\n",
      "+--------------------+--------+--------------+-----------------+------+----------+\n",
      "|2015-01-01 00:00:...|09:00:00|     Sao Paulo|Roupas masculinas|214.05|      Amex|\n",
      "|2015-01-01 00:00:...|09:00:00|Rio de Janeiro| Roupas femininas|153.57|      Visa|\n",
      "|2015-01-01 00:00:...|09:00:00|      Curitiba|           Musica| 66.08|  Dinheiro|\n",
      "|2015-01-01 00:00:...|09:00:00|Belo Horizonte|              Pet|493.51|      Visa|\n",
      "|2015-01-01 00:00:...|09:00:00|       Aracaju|  Roupas infantis|235.63|MasterCard|\n",
      "|2015-01-01 00:00:...|09:00:00|      Salvador|Roupas masculinas|247.18|MasterCard|\n",
      "|2015-01-01 00:00:...|09:00:00|      Campinas|          Cameras| 379.6|      Visa|\n",
      "|2015-01-01 00:00:...|09:00:00|     Sao Paulo|      Eletronicos| 296.8|  Dinheiro|\n",
      "|2015-01-01 00:00:...|09:00:00|      Londrina|       Brinquedos| 25.38|      Visa|\n",
      "|2015-01-01 00:00:...|09:00:00|Rio de Janeiro|       Brinquedos|213.88|      Visa|\n",
      "|2015-01-01 00:00:...|09:00:00|     Sao Paulo|      Video Games| 53.26|      Visa|\n",
      "|2015-01-01 00:00:...|09:00:00|     Sao Paulo|      Video Games| 39.75|  Dinheiro|\n",
      "|2015-01-01 00:00:...|09:00:00|      Campinas|          Cameras|469.63|MasterCard|\n",
      "|2015-01-01 00:00:...|09:00:00|      Ourinhos|             DVDs|290.82|MasterCard|\n",
      "|2015-01-01 00:00:...|09:00:00|Rio de Janeiro|           Musica|260.65|      Visa|\n",
      "|2015-01-01 00:00:...|09:00:00|      Brasilia|           Jardim| 136.9|      Visa|\n",
      "|2015-01-01 00:00:...|09:00:00|  Porto Alegre| Roupas femininas|483.82|      Visa|\n",
      "|2015-01-01 00:00:...|09:00:00|     Sao Paulo| Roupas femininas|215.82|  Dinheiro|\n",
      "|2015-01-01 00:00:...|09:00:00|       Maringa|          Cameras|418.94|      Amex|\n",
      "|2015-01-01 00:00:...|09:00:00| Florianopolis|  Roupas infantis|309.16|      Visa|\n",
      "+--------------------+--------+--------------+-----------------+------+----------+\n",
      "only showing top 20 rows\n",
      "\n"
     ]
    }
   ],
   "source": [
    "df.show()"
   ]
  },
  {
   "cell_type": "code",
   "execution_count": 75,
   "metadata": {},
   "outputs": [],
   "source": [
    "group = df.groupBy(['Cidade', 'Produto'])"
   ]
  },
  {
   "cell_type": "code",
   "execution_count": 143,
   "metadata": {},
   "outputs": [],
   "source": [
    "count_prod = group.count()"
   ]
  },
  {
   "cell_type": "code",
   "execution_count": 109,
   "metadata": {},
   "outputs": [
    {
     "name": "stdout",
     "output_type": "stream",
     "text": [
      "+--------------+-----------------+-----+\n",
      "|        Cidade|          Produto|count|\n",
      "+--------------+-----------------+-----+\n",
      "|Belo Horizonte|  Roupas infantis| 1072|\n",
      "|         Serra|      Video Games|  540|\n",
      "|      Brasilia|      Eletronicos|  544|\n",
      "|       Mossoro|   Saude e beleza|  545|\n",
      "|        Sumare|     Computadores|  561|\n",
      "|   Sete Lagoas|          Cameras|  543|\n",
      "|      Sorocaba|      Eletronicos|  532|\n",
      "|      Londrina|Roupas masculinas| 2107|\n",
      "|      Teresina|  Roupas infantis| 1089|\n",
      "|     Fortaleza|  Roupas infantis| 1097|\n",
      "| Foz do Iguacu|           Livros|  527|\n",
      "|      Sao Jose|  Roupas infantis| 1123|\n",
      "| Nova Friburgo|Roupas masculinas|  552|\n",
      "|       Chapeco|       Brinquedos|  548|\n",
      "|Belo Horizonte|       Brinquedos|  562|\n",
      "|     Rio Claro|   Saude e beleza|  526|\n",
      "|      Ourinhos|             DVDs|  529|\n",
      "|     Sao Paulo|              CDs| 3358|\n",
      "|       Niteroi|  Roupas infantis| 1053|\n",
      "|Belo Horizonte|       Artesanato|  559|\n",
      "+--------------+-----------------+-----+\n",
      "only showing top 20 rows\n",
      "\n"
     ]
    }
   ],
   "source": []
  },
  {
   "cell_type": "code",
   "execution_count": 138,
   "metadata": {},
   "outputs": [],
   "source": [
    "max_prod = count_prod.groupBy('Cidade').max('count').select(col('Cidade'), col(\"max(count)\").alias(\"count\"))"
   ]
  },
  {
   "cell_type": "code",
   "execution_count": 136,
   "metadata": {},
   "outputs": [
    {
     "name": "stdout",
     "output_type": "stream",
     "text": [
      "+-------------------+----+\n",
      "|             Cidade| max|\n",
      "+-------------------+----+\n",
      "|       Juiz de Fora|1089|\n",
      "|          Americana|1072|\n",
      "|          Fortaleza|1097|\n",
      "|             Santos|2089|\n",
      "|            Uberaba|1087|\n",
      "|           Dourados|1096|\n",
      "|           Curitiba|1026|\n",
      "|       Campo Grande|1055|\n",
      "|        Barra Mansa|1105|\n",
      "|            Maringa|2177|\n",
      "|Presidente Prudente|1062|\n",
      "|             Palmas|1128|\n",
      "|           Sao Jose|1123|\n",
      "|           Criciuma|1057|\n",
      "|             Sobral|1101|\n",
      "|              Cotia|1079|\n",
      "|             Cuiaba|1083|\n",
      "|          Guarulhos|2128|\n",
      "|        Sete Lagoas|1034|\n",
      "|     Angra dos Reis|1108|\n",
      "+-------------------+----+\n",
      "only showing top 20 rows\n",
      "\n"
     ]
    }
   ],
   "source": [
    "max_prod.show()"
   ]
  },
  {
   "cell_type": "code",
   "execution_count": 147,
   "metadata": {},
   "outputs": [],
   "source": [
    "df2 = count_prod.join(max_prod, ['Cidade', 'count'])"
   ]
  },
  {
   "cell_type": "code",
   "execution_count": 148,
   "metadata": {},
   "outputs": [],
   "source": [
    "oder = df2.orderBy('Cidade')"
   ]
  },
  {
   "cell_type": "code",
   "execution_count": 149,
   "metadata": {},
   "outputs": [
    {
     "name": "stdout",
     "output_type": "stream",
     "text": [
      "+--------------+-----+---------------+\n",
      "|        Cidade|count|        Produto|\n",
      "+--------------+-----+---------------+\n",
      "|      Alvorada| 1089|Roupas infantis|\n",
      "|     Americana| 1072|Roupas infantis|\n",
      "|Angra dos Reis| 1108|Roupas infantis|\n",
      "|       Aracaju| 1096|Roupas infantis|\n",
      "|     Aracatuba| 1052|Roupas infantis|\n",
      "|   Barra Mansa| 1105|Roupas infantis|\n",
      "|       Barueri| 1084|Roupas infantis|\n",
      "|         Bauru| 1093|Roupas infantis|\n",
      "|         Belem| 1075|Roupas infantis|\n",
      "|Belo Horizonte| 1072|Roupas infantis|\n",
      "|     Boa Vista| 1087|Roupas infantis|\n",
      "|      Brasilia| 1078|Roupas infantis|\n",
      "|     Cabo Frio| 2125|Roupas infantis|\n",
      "|      Campinas| 2229|Roupas infantis|\n",
      "|  Campo Grande| 1055|Roupas infantis|\n",
      "|      Cascavel| 1070|Roupas infantis|\n",
      "|        Caxias| 1079|Roupas infantis|\n",
      "|       Chapeco| 1120|Roupas infantis|\n",
      "|       Colombo| 3252|Roupas infantis|\n",
      "|         Cotia| 1079|Roupas infantis|\n",
      "+--------------+-----+---------------+\n",
      "only showing top 20 rows\n",
      "\n"
     ]
    }
   ],
   "source": [
    "oder.show()"
   ]
  },
  {
   "cell_type": "code",
   "execution_count": null,
   "metadata": {},
   "outputs": [],
   "source": []
  }
 ],
 "metadata": {
  "kernelspec": {
   "display_name": "Python 3",
   "language": "python",
   "name": "python3"
  },
  "language_info": {
   "codemirror_mode": {
    "name": "ipython",
    "version": 3
   },
   "file_extension": ".py",
   "mimetype": "text/x-python",
   "name": "python",
   "nbconvert_exporter": "python",
   "pygments_lexer": "ipython3",
   "version": "3.5.2"
  }
 },
 "nbformat": 4,
 "nbformat_minor": 2
}
