{
 "cells": [
  {
   "cell_type": "code",
   "execution_count": 26,
   "metadata": {},
   "outputs": [],
   "source": [
    "import findspark\n",
    "findspark.init('/home/ubuntu/spark-2.1.1-bin-hadoop2.7')"
   ]
  },
  {
   "cell_type": "code",
   "execution_count": 25,
   "metadata": {},
   "outputs": [],
   "source": [
    "\n",
    "from pyspark import SparkContext\n",
    "from pyspark.sql import SparkSession\n",
    "import time"
   ]
  },
  {
   "cell_type": "code",
   "execution_count": 10,
   "metadata": {},
   "outputs": [],
   "source": [
    "\n",
    "spark = SparkSession \\\n",
    "    .builder \\\n",
    "    .appName(\"Python Spark SQL Compras\") \\\n",
    "    .config(\"spark.some.config.option\", \"some-value\") \\\n",
    "    .getOrCreate()"
   ]
  },
  {
   "cell_type": "code",
   "execution_count": 28,
   "metadata": {},
   "outputs": [],
   "source": [
    "\n",
    "# spark is an existing SparkSession\n",
    "df = spark.read.format(\"csv\") \\\n",
    "                .option(\"header\", \"true\") \\\n",
    "                .option(\"delimiter\", \";\") \\\n",
    "                .load(\"compras.txt\")"
   ]
  },
  {
   "cell_type": "code",
   "execution_count": 29,
   "metadata": {},
   "outputs": [],
   "source": [
    "df.createOrReplaceTempView(\"Compras\")\n"
   ]
  },
  {
   "cell_type": "code",
   "execution_count": 30,
   "metadata": {},
   "outputs": [],
   "source": [
    "# SQL can be run over DataFrames that have been registered as a table.\n",
    "compras = spark.sql(\"SELECT Cidade FROM Compras\")"
   ]
  },
  {
   "cell_type": "code",
   "execution_count": 31,
   "metadata": {},
   "outputs": [],
   "source": [
    "comprasAgrupadasPorCidadeEProduto = spark.sql(\"SELECT Cidade, Produto, SUM(Valor) AS Total FROM Compras GROUP BY Cidade, Produto ORDER BY Cidade, Total DESC\")\n"
   ]
  },
  {
   "cell_type": "code",
   "execution_count": 32,
   "metadata": {},
   "outputs": [],
   "source": [
    "# Creates a temporary view using the DataFrame\n",
    "comprasAgrupadasPorCidadeEProduto.createOrReplaceTempView(\"ComprasAgrupadas\")"
   ]
  },
  {
   "cell_type": "code",
   "execution_count": 33,
   "metadata": {},
   "outputs": [],
   "source": [
    "produtosMaisVendidosPorCidade = spark.sql(\"SELECT Cidade, Produto, Total FROM ComprasAgrupadas T1 WHERE EXISTS (SELECT 1 AS Total FROM ComprasAgrupadas T2 WHERE T2.Cidade = T1.Cidade GROUP BY Cidade HAVING MAX(T2.Total) = T1.Total)\")\n"
   ]
  },
  {
   "cell_type": "code",
   "execution_count": 22,
   "metadata": {},
   "outputs": [],
   "source": [
    "produtosMaisVendidosPorCidade.coalesce(1).write.option(\"header\", \"true\").csv(\"produto_mais_vendido_por_cidade_df\")\n"
   ]
  },
  {
   "cell_type": "code",
   "execution_count": 36,
   "metadata": {},
   "outputs": [
    {
     "name": "stdout",
     "output_type": "stream",
     "text": [
      "+-------------------+-----------------+------------------+\n",
      "|             Cidade|          Produto|             Total|\n",
      "+-------------------+-----------------+------------------+\n",
      "|           Alvorada|  Roupas infantis| 272187.4399999997|\n",
      "|          Americana|  Roupas infantis| 272371.0099999999|\n",
      "|     Angra dos Reis|  Roupas infantis| 286476.8799999998|\n",
      "|            Aracaju|  Roupas infantis|279384.15000000014|\n",
      "|          Aracatuba|  Roupas infantis|256492.71000000005|\n",
      "|        Barra Mansa|  Roupas infantis| 276998.1900000001|\n",
      "|            Barueri|  Roupas infantis|272080.05000000016|\n",
      "|              Bauru|  Roupas infantis|270793.58999999997|\n",
      "|              Belem|  Roupas infantis| 270546.3999999999|\n",
      "|     Belo Horizonte|  Roupas infantis| 268459.7800000003|\n",
      "|          Boa Vista|  Roupas infantis|268096.22999999986|\n",
      "|           Brasilia|  Roupas infantis|261432.72999999954|\n",
      "|          Cabo Frio|  Roupas infantis| 537187.2600000002|\n",
      "|           Campinas|  Roupas infantis| 563500.2699999989|\n",
      "|       Campo Grande|  Roupas infantis| 262539.8599999998|\n",
      "|           Cascavel|  Roupas infantis| 272128.4099999996|\n",
      "|             Caxias|  Roupas infantis| 267334.2800000001|\n",
      "|            Chapeco|  Roupas infantis| 270546.4400000001|\n",
      "|            Colombo|  Roupas infantis|         807409.13|\n",
      "|              Cotia|  Roupas infantis|265914.75999999995|\n",
      "|           Criciuma|  Roupas infantis|266227.71000000037|\n",
      "|             Cuiaba|  Roupas infantis|272521.78000000014|\n",
      "|           Curitiba|  Roupas infantis|258458.43999999983|\n",
      "|            Diadema|  Roupas infantis|266947.24000000017|\n",
      "|           Dourados|  Roupas infantis|263925.74999999977|\n",
      "|      Florianopolis|  Roupas infantis|268772.37000000017|\n",
      "|          Fortaleza|  Roupas infantis|269415.93000000005|\n",
      "|      Foz do Iguacu|  Roupas infantis|259873.50999999998|\n",
      "|             Franca|  Roupas infantis| 269553.8199999998|\n",
      "|            Goiania|  Roupas infantis|256548.87000000005|\n",
      "|           Gravatai|  Roupas infantis|268199.38999999984|\n",
      "|            Guaruja|  Roupas infantis|257633.23999999996|\n",
      "|          Guarulhos|  Roupas infantis| 533482.1400000005|\n",
      "|             Ilheus|  Roupas infantis|253200.26999999993|\n",
      "|            Itabuna|  Roupas infantis| 265479.4399999999|\n",
      "|             Itajai|  Roupas infantis| 264899.2500000004|\n",
      "|            Itapevi|  Roupas infantis|         273276.78|\n",
      "|                Itu|  Roupas infantis|         295489.55|\n",
      "|                Jau|  Roupas infantis|289584.84000000014|\n",
      "|          Joinville|  Roupas infantis| 262781.4499999997|\n",
      "|           Juazeiro|  Roupas infantis|255937.18000000023|\n",
      "|       Juiz de Fora|  Roupas infantis|268822.22000000015|\n",
      "|            Jundiai|  Roupas infantis| 284684.2199999999|\n",
      "|              Lages|  Roupas infantis|277698.09999999986|\n",
      "|           Linhares|  Roupas infantis| 271106.6999999998|\n",
      "|           Londrina|  Roupas infantis|1061310.2700000003|\n",
      "|              Macae|  Roupas infantis|285332.58999999997|\n",
      "|             Macapa|  Roupas infantis| 272681.8899999998|\n",
      "|             Maceio|  Roupas infantis| 267407.9400000003|\n",
      "|             Manaus|Roupas masculinas|            370.55|\n",
      "|           Maranhao|  Roupas infantis| 263443.3900000002|\n",
      "|            Maringa|  Roupas infantis| 540900.4600000001|\n",
      "|               Maua|  Roupas infantis|258563.69000000018|\n",
      "|            Mossoro|  Roupas infantis| 267259.7899999998|\n",
      "|            Niteroi|  Roupas infantis|269752.08000000013|\n",
      "|      Nova Friburgo|  Roupas infantis|272256.14999999997|\n",
      "|             Olinda|  Roupas infantis| 285761.9200000005|\n",
      "|             Osasco|  Roupas infantis|         274777.94|\n",
      "|           Ourinhos|  Roupas infantis| 257189.7699999997|\n",
      "|             Palmas|  Roupas infantis|277556.79999999993|\n",
      "|        Passo Fundo|  Roupas infantis|280597.45000000036|\n",
      "|            Pelotas|  Roupas infantis|273229.20000000007|\n",
      "|         Petropolis|  Roupas infantis|254902.86999999994|\n",
      "|       Porto Alegre|  Roupas infantis|266614.24000000005|\n",
      "|        Porto Velho|  Roupas infantis| 269569.2799999999|\n",
      "|Presidente Prudente|  Roupas infantis| 270205.7099999997|\n",
      "|             Recife|  Roupas infantis|266990.41999999987|\n",
      "|          Rio Claro|  Roupas infantis| 287905.9700000001|\n",
      "|     Rio de Janeiro|  Roupas infantis| 795713.0400000012|\n",
      "|           Salvador|  Roupas infantis|276333.13999999984|\n",
      "|        Santa Maria|  Roupas infantis|276613.33999999997|\n",
      "|        Santo Andre|  Roupas infantis|294035.93999999954|\n",
      "|             Santos|  Roupas infantis| 523049.3299999992|\n",
      "|         Sao Carlos|  Roupas infantis|255469.76000000047|\n",
      "|           Sao Jose|  Roupas infantis| 282459.0100000001|\n",
      "|          Sao Paulo|  Roupas infantis|1621408.7799999956|\n",
      "|        Sao Vicente|  Roupas infantis|265652.31999999983|\n",
      "|              Serra|  Roupas infantis| 266220.1600000003|\n",
      "|        Sete Lagoas|  Roupas infantis|250387.91999999972|\n",
      "|             Sobral|  Roupas infantis|274606.89999999985|\n",
      "|           Sorocaba|  Roupas infantis|279832.45000000024|\n",
      "|             Sumare|  Roupas infantis|259609.61000000016|\n",
      "|            Taubate|  Roupas infantis| 538797.8400000004|\n",
      "|           Teresina|  Roupas infantis|         278420.37|\n",
      "|            Uberaba|  Roupas infantis|273072.03999999975|\n",
      "|            Vitoria|  Roupas infantis| 262998.4500000003|\n",
      "+-------------------+-----------------+------------------+\n",
      "\n"
     ]
    }
   ],
   "source": [
    "#produtosMaisVendidosPorCidade.show(100)"
   ]
  }
 ],
 "metadata": {
  "kernelspec": {
   "display_name": "Python 3",
   "language": "python",
   "name": "python3"
  },
  "language_info": {
   "codemirror_mode": {
    "name": "ipython",
    "version": 3
   },
   "file_extension": ".py",
   "mimetype": "text/x-python",
   "name": "python",
   "nbconvert_exporter": "python",
   "pygments_lexer": "ipython3",
   "version": "3.5.2"
  }
 },
 "nbformat": 4,
 "nbformat_minor": 2
}
